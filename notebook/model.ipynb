{
 "cells": [
  {
   "cell_type": "code",
   "execution_count": 1,
   "id": "89051014",
   "metadata": {},
   "outputs": [],
   "source": [
    "import pandas as pd\n",
    "import numpy as np\n",
    "import matplotlib.pyplot as plt\n",
    "import seaborn as sns"
   ]
  },
  {
   "cell_type": "raw",
   "id": "55e0bc80",
   "metadata": {},
   "source": [
    "# Attribute Information:\n",
    "\n",
    "Date : (DD/MM/YYYY) Day, month ('june' to 'september'), year (2012) Weather data observations\n",
    "Temp : temperature noon (temperature max) in Celsius degrees: 22 to 42\n",
    "RH : Relative Humidity in %: 21 to 90\n",
    "Ws :Wind speed in km/h: 6 to 29\n",
    "Rain: total day in mm: 0 to 16.8 FWI Components\n",
    "Fine Fuel Moisture Code (FFMC) index from the FWI system: 28.6 to 92.5\n",
    "Duff Moisture Code (DMC) index from the FWI system: 1.1 to 65.9\n",
    "Drought Code (DC) index from the FWI system: 7 to 220.4\n",
    "Initial Spread Index (ISI) index from the FWI system: 0 to 18.5\n",
    "Buildup Index (BUI) index from the FWI system: 1.1 to 68\n",
    "Fire Weather Index (FWI) Index: 0 to 31.1\n",
    "Classes: two classes, namely Fire and not Fire"
   ]
  },
  {
   "cell_type": "code",
   "execution_count": 2,
   "id": "4d68d054",
   "metadata": {},
   "outputs": [],
   "source": [
    "df=pd.read_csv('alegrian_forest.csv')"
   ]
  },
  {
   "cell_type": "code",
   "execution_count": 3,
   "id": "281502f8",
   "metadata": {},
   "outputs": [
    {
     "data": {
      "text/html": [
       "<div>\n",
       "<style scoped>\n",
       "    .dataframe tbody tr th:only-of-type {\n",
       "        vertical-align: middle;\n",
       "    }\n",
       "\n",
       "    .dataframe tbody tr th {\n",
       "        vertical-align: top;\n",
       "    }\n",
       "\n",
       "    .dataframe thead th {\n",
       "        text-align: right;\n",
       "    }\n",
       "</style>\n",
       "<table border=\"1\" class=\"dataframe\">\n",
       "  <thead>\n",
       "    <tr style=\"text-align: right;\">\n",
       "      <th></th>\n",
       "      <th>Temperature</th>\n",
       "      <th>RH</th>\n",
       "      <th>Ws</th>\n",
       "      <th>Rain</th>\n",
       "      <th>FFMC</th>\n",
       "      <th>DMC</th>\n",
       "      <th>DC</th>\n",
       "      <th>ISI</th>\n",
       "      <th>BUI</th>\n",
       "      <th>FWI</th>\n",
       "      <th>Classes</th>\n",
       "      <th>Region</th>\n",
       "    </tr>\n",
       "  </thead>\n",
       "  <tbody>\n",
       "    <tr>\n",
       "      <th>0</th>\n",
       "      <td>29</td>\n",
       "      <td>57</td>\n",
       "      <td>18</td>\n",
       "      <td>0.0</td>\n",
       "      <td>65.7</td>\n",
       "      <td>3.4</td>\n",
       "      <td>7.6</td>\n",
       "      <td>1.3</td>\n",
       "      <td>3.4</td>\n",
       "      <td>0.5</td>\n",
       "      <td>0</td>\n",
       "      <td>0</td>\n",
       "    </tr>\n",
       "    <tr>\n",
       "      <th>1</th>\n",
       "      <td>29</td>\n",
       "      <td>61</td>\n",
       "      <td>13</td>\n",
       "      <td>1.3</td>\n",
       "      <td>64.4</td>\n",
       "      <td>4.1</td>\n",
       "      <td>7.6</td>\n",
       "      <td>1.0</td>\n",
       "      <td>3.9</td>\n",
       "      <td>0.4</td>\n",
       "      <td>0</td>\n",
       "      <td>0</td>\n",
       "    </tr>\n",
       "    <tr>\n",
       "      <th>2</th>\n",
       "      <td>26</td>\n",
       "      <td>82</td>\n",
       "      <td>22</td>\n",
       "      <td>13.1</td>\n",
       "      <td>47.1</td>\n",
       "      <td>2.5</td>\n",
       "      <td>7.1</td>\n",
       "      <td>0.3</td>\n",
       "      <td>2.7</td>\n",
       "      <td>0.1</td>\n",
       "      <td>0</td>\n",
       "      <td>0</td>\n",
       "    </tr>\n",
       "    <tr>\n",
       "      <th>3</th>\n",
       "      <td>25</td>\n",
       "      <td>89</td>\n",
       "      <td>13</td>\n",
       "      <td>2.5</td>\n",
       "      <td>28.6</td>\n",
       "      <td>1.3</td>\n",
       "      <td>6.9</td>\n",
       "      <td>0.0</td>\n",
       "      <td>1.7</td>\n",
       "      <td>0.0</td>\n",
       "      <td>0</td>\n",
       "      <td>0</td>\n",
       "    </tr>\n",
       "    <tr>\n",
       "      <th>4</th>\n",
       "      <td>27</td>\n",
       "      <td>77</td>\n",
       "      <td>16</td>\n",
       "      <td>0.0</td>\n",
       "      <td>64.8</td>\n",
       "      <td>3.0</td>\n",
       "      <td>14.2</td>\n",
       "      <td>1.2</td>\n",
       "      <td>3.9</td>\n",
       "      <td>0.5</td>\n",
       "      <td>0</td>\n",
       "      <td>0</td>\n",
       "    </tr>\n",
       "  </tbody>\n",
       "</table>\n",
       "</div>"
      ],
      "text/plain": [
       "   Temperature  RH  Ws  Rain  FFMC  DMC    DC  ISI  BUI  FWI  Classes  Region\n",
       "0           29  57  18   0.0  65.7  3.4   7.6  1.3  3.4  0.5        0       0\n",
       "1           29  61  13   1.3  64.4  4.1   7.6  1.0  3.9  0.4        0       0\n",
       "2           26  82  22  13.1  47.1  2.5   7.1  0.3  2.7  0.1        0       0\n",
       "3           25  89  13   2.5  28.6  1.3   6.9  0.0  1.7  0.0        0       0\n",
       "4           27  77  16   0.0  64.8  3.0  14.2  1.2  3.9  0.5        0       0"
      ]
     },
     "execution_count": 3,
     "metadata": {},
     "output_type": "execute_result"
    }
   ],
   "source": [
    "df.head()"
   ]
  },
  {
   "cell_type": "code",
   "execution_count": 4,
   "id": "243e875f",
   "metadata": {},
   "outputs": [
    {
     "name": "stdout",
     "output_type": "stream",
     "text": [
      "<class 'pandas.core.frame.DataFrame'>\n",
      "RangeIndex: 243 entries, 0 to 242\n",
      "Data columns (total 12 columns):\n",
      " #   Column       Non-Null Count  Dtype  \n",
      "---  ------       --------------  -----  \n",
      " 0   Temperature  243 non-null    int64  \n",
      " 1   RH           243 non-null    int64  \n",
      " 2   Ws           243 non-null    int64  \n",
      " 3   Rain         243 non-null    float64\n",
      " 4   FFMC         243 non-null    float64\n",
      " 5   DMC          243 non-null    float64\n",
      " 6   DC           243 non-null    float64\n",
      " 7   ISI          243 non-null    float64\n",
      " 8   BUI          243 non-null    float64\n",
      " 9   FWI          243 non-null    float64\n",
      " 10  Classes      243 non-null    int64  \n",
      " 11  Region       243 non-null    int64  \n",
      "dtypes: float64(7), int64(5)\n",
      "memory usage: 22.9 KB\n"
     ]
    }
   ],
   "source": [
    "df.info()"
   ]
  },
  {
   "cell_type": "code",
   "execution_count": 5,
   "id": "971b36d1",
   "metadata": {},
   "outputs": [
    {
     "data": {
      "text/html": [
       "<div>\n",
       "<style scoped>\n",
       "    .dataframe tbody tr th:only-of-type {\n",
       "        vertical-align: middle;\n",
       "    }\n",
       "\n",
       "    .dataframe tbody tr th {\n",
       "        vertical-align: top;\n",
       "    }\n",
       "\n",
       "    .dataframe thead th {\n",
       "        text-align: right;\n",
       "    }\n",
       "</style>\n",
       "<table border=\"1\" class=\"dataframe\">\n",
       "  <thead>\n",
       "    <tr style=\"text-align: right;\">\n",
       "      <th></th>\n",
       "      <th>Temperature</th>\n",
       "      <th>RH</th>\n",
       "      <th>Ws</th>\n",
       "      <th>Rain</th>\n",
       "      <th>FFMC</th>\n",
       "      <th>DMC</th>\n",
       "      <th>DC</th>\n",
       "      <th>ISI</th>\n",
       "      <th>BUI</th>\n",
       "      <th>FWI</th>\n",
       "      <th>Classes</th>\n",
       "      <th>Region</th>\n",
       "    </tr>\n",
       "  </thead>\n",
       "  <tbody>\n",
       "    <tr>\n",
       "      <th>0</th>\n",
       "      <td>29</td>\n",
       "      <td>57</td>\n",
       "      <td>18</td>\n",
       "      <td>0.0</td>\n",
       "      <td>65.7</td>\n",
       "      <td>3.4</td>\n",
       "      <td>7.6</td>\n",
       "      <td>1.3</td>\n",
       "      <td>3.4</td>\n",
       "      <td>0.5</td>\n",
       "      <td>0</td>\n",
       "      <td>0</td>\n",
       "    </tr>\n",
       "    <tr>\n",
       "      <th>1</th>\n",
       "      <td>29</td>\n",
       "      <td>61</td>\n",
       "      <td>13</td>\n",
       "      <td>1.3</td>\n",
       "      <td>64.4</td>\n",
       "      <td>4.1</td>\n",
       "      <td>7.6</td>\n",
       "      <td>1.0</td>\n",
       "      <td>3.9</td>\n",
       "      <td>0.4</td>\n",
       "      <td>0</td>\n",
       "      <td>0</td>\n",
       "    </tr>\n",
       "    <tr>\n",
       "      <th>2</th>\n",
       "      <td>26</td>\n",
       "      <td>82</td>\n",
       "      <td>22</td>\n",
       "      <td>13.1</td>\n",
       "      <td>47.1</td>\n",
       "      <td>2.5</td>\n",
       "      <td>7.1</td>\n",
       "      <td>0.3</td>\n",
       "      <td>2.7</td>\n",
       "      <td>0.1</td>\n",
       "      <td>0</td>\n",
       "      <td>0</td>\n",
       "    </tr>\n",
       "    <tr>\n",
       "      <th>3</th>\n",
       "      <td>25</td>\n",
       "      <td>89</td>\n",
       "      <td>13</td>\n",
       "      <td>2.5</td>\n",
       "      <td>28.6</td>\n",
       "      <td>1.3</td>\n",
       "      <td>6.9</td>\n",
       "      <td>0.0</td>\n",
       "      <td>1.7</td>\n",
       "      <td>0.0</td>\n",
       "      <td>0</td>\n",
       "      <td>0</td>\n",
       "    </tr>\n",
       "    <tr>\n",
       "      <th>4</th>\n",
       "      <td>27</td>\n",
       "      <td>77</td>\n",
       "      <td>16</td>\n",
       "      <td>0.0</td>\n",
       "      <td>64.8</td>\n",
       "      <td>3.0</td>\n",
       "      <td>14.2</td>\n",
       "      <td>1.2</td>\n",
       "      <td>3.9</td>\n",
       "      <td>0.5</td>\n",
       "      <td>0</td>\n",
       "      <td>0</td>\n",
       "    </tr>\n",
       "  </tbody>\n",
       "</table>\n",
       "</div>"
      ],
      "text/plain": [
       "   Temperature  RH  Ws  Rain  FFMC  DMC    DC  ISI  BUI  FWI  Classes  Region\n",
       "0           29  57  18   0.0  65.7  3.4   7.6  1.3  3.4  0.5        0       0\n",
       "1           29  61  13   1.3  64.4  4.1   7.6  1.0  3.9  0.4        0       0\n",
       "2           26  82  22  13.1  47.1  2.5   7.1  0.3  2.7  0.1        0       0\n",
       "3           25  89  13   2.5  28.6  1.3   6.9  0.0  1.7  0.0        0       0\n",
       "4           27  77  16   0.0  64.8  3.0  14.2  1.2  3.9  0.5        0       0"
      ]
     },
     "execution_count": 5,
     "metadata": {},
     "output_type": "execute_result"
    }
   ],
   "source": [
    "df.head()"
   ]
  },
  {
   "cell_type": "code",
   "execution_count": 6,
   "id": "d3ab04e8",
   "metadata": {},
   "outputs": [],
   "source": [
    "#Independent and dependent features\n",
    "X = df.drop('FWI',axis =1)\n",
    "y= df['FWI']"
   ]
  },
  {
   "cell_type": "code",
   "execution_count": 7,
   "id": "04c85b5f",
   "metadata": {},
   "outputs": [
    {
     "data": {
      "text/html": [
       "<div>\n",
       "<style scoped>\n",
       "    .dataframe tbody tr th:only-of-type {\n",
       "        vertical-align: middle;\n",
       "    }\n",
       "\n",
       "    .dataframe tbody tr th {\n",
       "        vertical-align: top;\n",
       "    }\n",
       "\n",
       "    .dataframe thead th {\n",
       "        text-align: right;\n",
       "    }\n",
       "</style>\n",
       "<table border=\"1\" class=\"dataframe\">\n",
       "  <thead>\n",
       "    <tr style=\"text-align: right;\">\n",
       "      <th></th>\n",
       "      <th>Temperature</th>\n",
       "      <th>RH</th>\n",
       "      <th>Ws</th>\n",
       "      <th>Rain</th>\n",
       "      <th>FFMC</th>\n",
       "      <th>DMC</th>\n",
       "      <th>DC</th>\n",
       "      <th>ISI</th>\n",
       "      <th>BUI</th>\n",
       "      <th>Classes</th>\n",
       "      <th>Region</th>\n",
       "    </tr>\n",
       "  </thead>\n",
       "  <tbody>\n",
       "    <tr>\n",
       "      <th>0</th>\n",
       "      <td>29</td>\n",
       "      <td>57</td>\n",
       "      <td>18</td>\n",
       "      <td>0.0</td>\n",
       "      <td>65.7</td>\n",
       "      <td>3.4</td>\n",
       "      <td>7.6</td>\n",
       "      <td>1.3</td>\n",
       "      <td>3.4</td>\n",
       "      <td>0</td>\n",
       "      <td>0</td>\n",
       "    </tr>\n",
       "    <tr>\n",
       "      <th>1</th>\n",
       "      <td>29</td>\n",
       "      <td>61</td>\n",
       "      <td>13</td>\n",
       "      <td>1.3</td>\n",
       "      <td>64.4</td>\n",
       "      <td>4.1</td>\n",
       "      <td>7.6</td>\n",
       "      <td>1.0</td>\n",
       "      <td>3.9</td>\n",
       "      <td>0</td>\n",
       "      <td>0</td>\n",
       "    </tr>\n",
       "    <tr>\n",
       "      <th>2</th>\n",
       "      <td>26</td>\n",
       "      <td>82</td>\n",
       "      <td>22</td>\n",
       "      <td>13.1</td>\n",
       "      <td>47.1</td>\n",
       "      <td>2.5</td>\n",
       "      <td>7.1</td>\n",
       "      <td>0.3</td>\n",
       "      <td>2.7</td>\n",
       "      <td>0</td>\n",
       "      <td>0</td>\n",
       "    </tr>\n",
       "    <tr>\n",
       "      <th>3</th>\n",
       "      <td>25</td>\n",
       "      <td>89</td>\n",
       "      <td>13</td>\n",
       "      <td>2.5</td>\n",
       "      <td>28.6</td>\n",
       "      <td>1.3</td>\n",
       "      <td>6.9</td>\n",
       "      <td>0.0</td>\n",
       "      <td>1.7</td>\n",
       "      <td>0</td>\n",
       "      <td>0</td>\n",
       "    </tr>\n",
       "    <tr>\n",
       "      <th>4</th>\n",
       "      <td>27</td>\n",
       "      <td>77</td>\n",
       "      <td>16</td>\n",
       "      <td>0.0</td>\n",
       "      <td>64.8</td>\n",
       "      <td>3.0</td>\n",
       "      <td>14.2</td>\n",
       "      <td>1.2</td>\n",
       "      <td>3.9</td>\n",
       "      <td>0</td>\n",
       "      <td>0</td>\n",
       "    </tr>\n",
       "  </tbody>\n",
       "</table>\n",
       "</div>"
      ],
      "text/plain": [
       "   Temperature  RH  Ws  Rain  FFMC  DMC    DC  ISI  BUI  Classes  Region\n",
       "0           29  57  18   0.0  65.7  3.4   7.6  1.3  3.4        0       0\n",
       "1           29  61  13   1.3  64.4  4.1   7.6  1.0  3.9        0       0\n",
       "2           26  82  22  13.1  47.1  2.5   7.1  0.3  2.7        0       0\n",
       "3           25  89  13   2.5  28.6  1.3   6.9  0.0  1.7        0       0\n",
       "4           27  77  16   0.0  64.8  3.0  14.2  1.2  3.9        0       0"
      ]
     },
     "execution_count": 7,
     "metadata": {},
     "output_type": "execute_result"
    }
   ],
   "source": [
    "X.head()"
   ]
  },
  {
   "cell_type": "code",
   "execution_count": 8,
   "id": "7f90c665",
   "metadata": {},
   "outputs": [
    {
     "data": {
      "text/plain": [
       "0    0.5\n",
       "1    0.4\n",
       "2    0.1\n",
       "3    0.0\n",
       "4    0.5\n",
       "Name: FWI, dtype: float64"
      ]
     },
     "execution_count": 8,
     "metadata": {},
     "output_type": "execute_result"
    }
   ],
   "source": [
    "y.head()"
   ]
  },
  {
   "cell_type": "code",
   "execution_count": 9,
   "id": "51bc82ff",
   "metadata": {},
   "outputs": [],
   "source": [
    "#Train test split \n",
    "\n",
    "from sklearn.model_selection import train_test_split\n"
   ]
  },
  {
   "cell_type": "code",
   "execution_count": 10,
   "id": "1d6e107f",
   "metadata": {},
   "outputs": [],
   "source": [
    "X_train, X_test, y_train, y_test = train_test_split(X,y,test_size =0.25, random_state = 10)"
   ]
  },
  {
   "cell_type": "code",
   "execution_count": 11,
   "id": "3ef831be",
   "metadata": {},
   "outputs": [
    {
     "data": {
      "text/plain": [
       "(182, 11)"
      ]
     },
     "execution_count": 11,
     "metadata": {},
     "output_type": "execute_result"
    }
   ],
   "source": [
    "X_train.shape"
   ]
  },
  {
   "cell_type": "code",
   "execution_count": 12,
   "id": "9e285367",
   "metadata": {},
   "outputs": [
    {
     "data": {
      "text/plain": [
       "(61, 11)"
      ]
     },
     "execution_count": 12,
     "metadata": {},
     "output_type": "execute_result"
    }
   ],
   "source": [
    "X_test.shape"
   ]
  },
  {
   "cell_type": "code",
   "execution_count": 13,
   "id": "bea113b5",
   "metadata": {},
   "outputs": [
    {
     "data": {
      "text/plain": [
       "(182,)"
      ]
     },
     "execution_count": 13,
     "metadata": {},
     "output_type": "execute_result"
    }
   ],
   "source": [
    "y_train.shape"
   ]
  },
  {
   "cell_type": "code",
   "execution_count": 14,
   "id": "c9a6487a",
   "metadata": {},
   "outputs": [
    {
     "data": {
      "text/plain": [
       "(61,)"
      ]
     },
     "execution_count": 14,
     "metadata": {},
     "output_type": "execute_result"
    }
   ],
   "source": [
    "y_test.shape"
   ]
  },
  {
   "cell_type": "code",
   "execution_count": 15,
   "id": "621a7c5c",
   "metadata": {},
   "outputs": [
    {
     "data": {
      "text/html": [
       "<div>\n",
       "<style scoped>\n",
       "    .dataframe tbody tr th:only-of-type {\n",
       "        vertical-align: middle;\n",
       "    }\n",
       "\n",
       "    .dataframe tbody tr th {\n",
       "        vertical-align: top;\n",
       "    }\n",
       "\n",
       "    .dataframe thead th {\n",
       "        text-align: right;\n",
       "    }\n",
       "</style>\n",
       "<table border=\"1\" class=\"dataframe\">\n",
       "  <thead>\n",
       "    <tr style=\"text-align: right;\">\n",
       "      <th></th>\n",
       "      <th>Temperature</th>\n",
       "      <th>RH</th>\n",
       "      <th>Ws</th>\n",
       "      <th>Rain</th>\n",
       "      <th>FFMC</th>\n",
       "      <th>DMC</th>\n",
       "      <th>DC</th>\n",
       "      <th>ISI</th>\n",
       "      <th>BUI</th>\n",
       "      <th>Classes</th>\n",
       "      <th>Region</th>\n",
       "    </tr>\n",
       "  </thead>\n",
       "  <tbody>\n",
       "    <tr>\n",
       "      <th>Temperature</th>\n",
       "      <td>1.000000</td>\n",
       "      <td>-0.669720</td>\n",
       "      <td>-0.334140</td>\n",
       "      <td>-0.353265</td>\n",
       "      <td>0.677623</td>\n",
       "      <td>0.487571</td>\n",
       "      <td>0.389471</td>\n",
       "      <td>0.602026</td>\n",
       "      <td>0.467013</td>\n",
       "      <td>0.546279</td>\n",
       "      <td>0.283242</td>\n",
       "    </tr>\n",
       "    <tr>\n",
       "      <th>RH</th>\n",
       "      <td>-0.669720</td>\n",
       "      <td>1.000000</td>\n",
       "      <td>0.204591</td>\n",
       "      <td>0.222707</td>\n",
       "      <td>-0.649486</td>\n",
       "      <td>-0.428679</td>\n",
       "      <td>-0.266198</td>\n",
       "      <td>-0.707446</td>\n",
       "      <td>-0.383706</td>\n",
       "      <td>-0.463607</td>\n",
       "      <td>-0.401123</td>\n",
       "    </tr>\n",
       "    <tr>\n",
       "      <th>Ws</th>\n",
       "      <td>-0.334140</td>\n",
       "      <td>0.204591</td>\n",
       "      <td>1.000000</td>\n",
       "      <td>0.128902</td>\n",
       "      <td>-0.174288</td>\n",
       "      <td>-0.006788</td>\n",
       "      <td>0.058934</td>\n",
       "      <td>0.004938</td>\n",
       "      <td>0.020047</td>\n",
       "      <td>-0.098821</td>\n",
       "      <td>-0.181108</td>\n",
       "    </tr>\n",
       "    <tr>\n",
       "      <th>Rain</th>\n",
       "      <td>-0.353265</td>\n",
       "      <td>0.222707</td>\n",
       "      <td>0.128902</td>\n",
       "      <td>1.000000</td>\n",
       "      <td>-0.566291</td>\n",
       "      <td>-0.319280</td>\n",
       "      <td>-0.312623</td>\n",
       "      <td>-0.364699</td>\n",
       "      <td>-0.327179</td>\n",
       "      <td>-0.386251</td>\n",
       "      <td>-0.035181</td>\n",
       "    </tr>\n",
       "    <tr>\n",
       "      <th>FFMC</th>\n",
       "      <td>0.677623</td>\n",
       "      <td>-0.649486</td>\n",
       "      <td>-0.174288</td>\n",
       "      <td>-0.566291</td>\n",
       "      <td>1.000000</td>\n",
       "      <td>0.608838</td>\n",
       "      <td>0.520211</td>\n",
       "      <td>0.743021</td>\n",
       "      <td>0.600643</td>\n",
       "      <td>0.774048</td>\n",
       "      <td>0.248338</td>\n",
       "    </tr>\n",
       "    <tr>\n",
       "      <th>DMC</th>\n",
       "      <td>0.487571</td>\n",
       "      <td>-0.428679</td>\n",
       "      <td>-0.006788</td>\n",
       "      <td>-0.319280</td>\n",
       "      <td>0.608838</td>\n",
       "      <td>1.000000</td>\n",
       "      <td>0.885047</td>\n",
       "      <td>0.690427</td>\n",
       "      <td>0.983489</td>\n",
       "      <td>0.591989</td>\n",
       "      <td>0.193025</td>\n",
       "    </tr>\n",
       "    <tr>\n",
       "      <th>DC</th>\n",
       "      <td>0.389471</td>\n",
       "      <td>-0.266198</td>\n",
       "      <td>0.058934</td>\n",
       "      <td>-0.312623</td>\n",
       "      <td>0.520211</td>\n",
       "      <td>0.885047</td>\n",
       "      <td>1.000000</td>\n",
       "      <td>0.536126</td>\n",
       "      <td>0.944205</td>\n",
       "      <td>0.500287</td>\n",
       "      <td>-0.063488</td>\n",
       "    </tr>\n",
       "    <tr>\n",
       "      <th>ISI</th>\n",
       "      <td>0.602026</td>\n",
       "      <td>-0.707446</td>\n",
       "      <td>0.004938</td>\n",
       "      <td>-0.364699</td>\n",
       "      <td>0.743021</td>\n",
       "      <td>0.690427</td>\n",
       "      <td>0.536126</td>\n",
       "      <td>1.000000</td>\n",
       "      <td>0.664122</td>\n",
       "      <td>0.752023</td>\n",
       "      <td>0.280281</td>\n",
       "    </tr>\n",
       "    <tr>\n",
       "      <th>BUI</th>\n",
       "      <td>0.467013</td>\n",
       "      <td>-0.383706</td>\n",
       "      <td>0.020047</td>\n",
       "      <td>-0.327179</td>\n",
       "      <td>0.600643</td>\n",
       "      <td>0.983489</td>\n",
       "      <td>0.944205</td>\n",
       "      <td>0.664122</td>\n",
       "      <td>1.000000</td>\n",
       "      <td>0.589880</td>\n",
       "      <td>0.096093</td>\n",
       "    </tr>\n",
       "    <tr>\n",
       "      <th>Classes</th>\n",
       "      <td>0.546279</td>\n",
       "      <td>-0.463607</td>\n",
       "      <td>-0.098821</td>\n",
       "      <td>-0.386251</td>\n",
       "      <td>0.774048</td>\n",
       "      <td>0.591989</td>\n",
       "      <td>0.500287</td>\n",
       "      <td>0.752023</td>\n",
       "      <td>0.589880</td>\n",
       "      <td>1.000000</td>\n",
       "      <td>0.231666</td>\n",
       "    </tr>\n",
       "    <tr>\n",
       "      <th>Region</th>\n",
       "      <td>0.283242</td>\n",
       "      <td>-0.401123</td>\n",
       "      <td>-0.181108</td>\n",
       "      <td>-0.035181</td>\n",
       "      <td>0.248338</td>\n",
       "      <td>0.193025</td>\n",
       "      <td>-0.063488</td>\n",
       "      <td>0.280281</td>\n",
       "      <td>0.096093</td>\n",
       "      <td>0.231666</td>\n",
       "      <td>1.000000</td>\n",
       "    </tr>\n",
       "  </tbody>\n",
       "</table>\n",
       "</div>"
      ],
      "text/plain": [
       "             Temperature        RH        Ws      Rain      FFMC       DMC  \\\n",
       "Temperature     1.000000 -0.669720 -0.334140 -0.353265  0.677623  0.487571   \n",
       "RH             -0.669720  1.000000  0.204591  0.222707 -0.649486 -0.428679   \n",
       "Ws             -0.334140  0.204591  1.000000  0.128902 -0.174288 -0.006788   \n",
       "Rain           -0.353265  0.222707  0.128902  1.000000 -0.566291 -0.319280   \n",
       "FFMC            0.677623 -0.649486 -0.174288 -0.566291  1.000000  0.608838   \n",
       "DMC             0.487571 -0.428679 -0.006788 -0.319280  0.608838  1.000000   \n",
       "DC              0.389471 -0.266198  0.058934 -0.312623  0.520211  0.885047   \n",
       "ISI             0.602026 -0.707446  0.004938 -0.364699  0.743021  0.690427   \n",
       "BUI             0.467013 -0.383706  0.020047 -0.327179  0.600643  0.983489   \n",
       "Classes         0.546279 -0.463607 -0.098821 -0.386251  0.774048  0.591989   \n",
       "Region          0.283242 -0.401123 -0.181108 -0.035181  0.248338  0.193025   \n",
       "\n",
       "                   DC       ISI       BUI   Classes    Region  \n",
       "Temperature  0.389471  0.602026  0.467013  0.546279  0.283242  \n",
       "RH          -0.266198 -0.707446 -0.383706 -0.463607 -0.401123  \n",
       "Ws           0.058934  0.004938  0.020047 -0.098821 -0.181108  \n",
       "Rain        -0.312623 -0.364699 -0.327179 -0.386251 -0.035181  \n",
       "FFMC         0.520211  0.743021  0.600643  0.774048  0.248338  \n",
       "DMC          0.885047  0.690427  0.983489  0.591989  0.193025  \n",
       "DC           1.000000  0.536126  0.944205  0.500287 -0.063488  \n",
       "ISI          0.536126  1.000000  0.664122  0.752023  0.280281  \n",
       "BUI          0.944205  0.664122  1.000000  0.589880  0.096093  \n",
       "Classes      0.500287  0.752023  0.589880  1.000000  0.231666  \n",
       "Region      -0.063488  0.280281  0.096093  0.231666  1.000000  "
      ]
     },
     "execution_count": 15,
     "metadata": {},
     "output_type": "execute_result"
    }
   ],
   "source": [
    "X_train.corr()"
   ]
  },
  {
   "cell_type": "code",
   "execution_count": 16,
   "id": "c261003d",
   "metadata": {},
   "outputs": [],
   "source": [
    "def correlation(dataset, threshold):\n",
    "    col_corr = set()\n",
    "    corr_matrix = dataset.corr()\n",
    "    for i in range(len(corr_matrix.columns)):\n",
    "        for j in range(i):\n",
    "            if abs(corr_matrix.iloc[i, j]) > threshold:\n",
    "                colname = corr_matrix.columns[i]\n",
    "                col_corr.add(colname)\n",
    "    return col_corr"
   ]
  },
  {
   "cell_type": "code",
   "execution_count": 17,
   "id": "ade1e259",
   "metadata": {},
   "outputs": [],
   "source": [
    "corr_features = correlation(X_train, 0.85)"
   ]
  },
  {
   "cell_type": "code",
   "execution_count": 18,
   "id": "7f7f00f4",
   "metadata": {},
   "outputs": [
    {
     "data": {
      "text/plain": [
       "{'BUI', 'DC'}"
      ]
     },
     "execution_count": 18,
     "metadata": {},
     "output_type": "execute_result"
    }
   ],
   "source": [
    "corr_features"
   ]
  },
  {
   "cell_type": "code",
   "execution_count": 19,
   "id": "055a9d74",
   "metadata": {},
   "outputs": [],
   "source": [
    "X_train.drop(corr_features, axis = 1, inplace=True)\n",
    "X_test.drop(corr_features, axis = 1, inplace=True)"
   ]
  },
  {
   "cell_type": "code",
   "execution_count": 20,
   "id": "f7320258",
   "metadata": {},
   "outputs": [
    {
     "data": {
      "text/plain": [
       "(182, 9)"
      ]
     },
     "execution_count": 20,
     "metadata": {},
     "output_type": "execute_result"
    }
   ],
   "source": [
    "X_train.shape"
   ]
  },
  {
   "cell_type": "code",
   "execution_count": 21,
   "id": "8886a6ad",
   "metadata": {},
   "outputs": [
    {
     "data": {
      "text/plain": [
       "(61, 9)"
      ]
     },
     "execution_count": 21,
     "metadata": {},
     "output_type": "execute_result"
    }
   ],
   "source": [
    "X_test.shape"
   ]
  },
  {
   "cell_type": "markdown",
   "id": "a080f7c3",
   "metadata": {},
   "source": [
    "# Feature scaling"
   ]
  },
  {
   "cell_type": "code",
   "execution_count": 22,
   "id": "751b7ad1",
   "metadata": {},
   "outputs": [],
   "source": [
    "from sklearn.preprocessing import StandardScaler\n",
    "scaler = StandardScaler()"
   ]
  },
  {
   "cell_type": "code",
   "execution_count": 23,
   "id": "74e97b0c",
   "metadata": {},
   "outputs": [],
   "source": [
    "X_train_scaled = scaler.fit_transform(X_train)\n",
    "X_test_scaled = scaler.transform(X_test)"
   ]
  },
  {
   "cell_type": "code",
   "execution_count": 24,
   "id": "c2696bab",
   "metadata": {},
   "outputs": [
    {
     "data": {
      "text/plain": [
       "array([[-0.82246204, -0.13248758, -0.96126494, ..., -0.8800242 ,\n",
       "        -1.0921406 , -1.        ],\n",
       "       [-1.64946806,  1.26631775,  2.29867702, ..., -1.04641643,\n",
       "        -1.0921406 , -1.        ],\n",
       "       [ 1.38288736, -1.73112224, -0.96126494, ...,  1.66339986,\n",
       "         0.91563303,  1.        ],\n",
       "       ...,\n",
       "       [ 0.28021266, -2.46382979, -0.96126494, ...,  2.25765782,\n",
       "         0.91563303,  1.        ],\n",
       "       [-0.54679336,  0.06734175, -0.59904916, ..., -0.59478038,\n",
       "        -1.0921406 ,  1.        ],\n",
       "       [-1.09813071,  1.06648841, -1.32348071, ..., -0.80871325,\n",
       "        -1.0921406 , -1.        ]])"
      ]
     },
     "execution_count": 24,
     "metadata": {},
     "output_type": "execute_result"
    }
   ],
   "source": [
    "X_train_scaled"
   ]
  },
  {
   "cell_type": "code",
   "execution_count": 25,
   "id": "bb218d2a",
   "metadata": {},
   "outputs": [
    {
     "data": {
      "text/plain": [
       "array([[-8.22462036e-01,  4.67000417e-01, -5.99049163e-01,\n",
       "        -4.08099905e-01,  3.82324752e-01, -4.03032864e-01,\n",
       "        -3.57077199e-01,  9.15633026e-01, -1.00000000e+00],\n",
       "       [-8.22462036e-01, -9.31804908e-01,  1.21202970e+00,\n",
       "        -4.08099905e-01,  7.70459017e-01, -2.40355537e-01,\n",
       "         1.04537158e+00,  9.15633026e-01,  1.00000000e+00],\n",
       "       [ 1.10721869e+00, -4.65536466e-01,  1.25382383e-01,\n",
       "        -4.08099905e-01,  7.90534928e-01,  7.12468805e-01,\n",
       "         8.31438717e-01,  9.15633026e-01,  1.00000000e+00],\n",
       "       [-1.64946806e+00,  1.19970797e+00,  1.93646125e+00,\n",
       "         2.68665770e+00, -1.90632902e+00, -8.98811384e-01,\n",
       "        -1.02264611e+00, -1.09214060e+00, -1.00000000e+00],\n",
       "       [-8.22462036e-01,  1.13309819e+00, -5.99049163e-01,\n",
       "         6.59057892e-01, -1.89963705e+00, -9.60783698e-01,\n",
       "        -1.04641643e+00, -1.09214060e+00,  1.00000000e+00],\n",
       "       [ 5.55881339e-01, -3.32316911e-01,  1.25382383e-01,\n",
       "        -4.08099905e-01,  7.36999167e-01,  1.02233038e+00,\n",
       "         6.17505852e-01,  9.15633026e-01,  1.00000000e+00],\n",
       "       [ 4.54398915e-03, -1.99097357e-01,  8.49813929e-01,\n",
       "        -2.48026235e-01,  8.82457594e-04, -2.55848616e-01,\n",
       "        -5.94780383e-01, -1.09214060e+00, -1.00000000e+00],\n",
       "       [ 1.10721869e+00, -8.65195131e-01,  1.25382383e-01,\n",
       "        -4.08099905e-01,  8.57454629e-01,  1.40191081e+00,\n",
       "         1.14045285e+00,  9.15633026e-01,  1.00000000e+00],\n",
       "       [ 5.55881339e-01,  4.67000417e-01,  1.25382383e-01,\n",
       "        -4.08099905e-01,  5.96467795e-01, -1.39650526e-01,\n",
       "         1.65869804e-01,  9.15633026e-01,  1.00000000e+00],\n",
       "       [ 4.54398915e-03, -1.06502446e+00, -5.99049163e-01,\n",
       "        -3.45946758e-02,  2.76503379e-02, -5.81203270e-01,\n",
       "        -6.89861656e-01, -1.09214060e+00, -1.00000000e+00],\n",
       "       [ 8.31550014e-01, -3.32316911e-01, -2.04791225e+00,\n",
       "        -3.01384125e-01,  8.11860986e-02, -2.94581313e-01,\n",
       "        -7.37402293e-01, -1.09214060e+00,  1.00000000e+00],\n",
       "       [ 4.54398915e-03,  7.31975576e-04, -5.99049163e-01,\n",
       "        -4.08099905e-01,  6.63387496e-01, -2.86834774e-01,\n",
       "         2.13410440e-01,  9.15633026e-01, -1.00000000e+00],\n",
       "       [ 8.31550014e-01, -1.93095157e+00,  1.25382383e-01,\n",
       "        -3.01384125e-01,  7.50383107e-01,  1.77957588e-01,\n",
       "         6.65046488e-01,  9.15633026e-01,  1.00000000e+00],\n",
       "       [-2.71124686e-01,  1.06648841e+00, -2.36833390e-01,\n",
       "        -4.08099905e-01,  5.56315975e-01,  1.07655615e+00,\n",
       "        -5.22424578e-04,  9.15633026e-01, -1.00000000e+00],\n",
       "       [ 8.31550014e-01, -6.65365798e-01,  4.87598156e-01,\n",
       "        -1.41310455e-01,  2.08333530e-01,  4.72326084e-01,\n",
       "        -4.75928791e-01,  9.15633026e-01,  1.00000000e+00],\n",
       "       [ 5.55881339e-01, -6.65365798e-01,  8.49813929e-01,\n",
       "        -4.08099905e-01,  7.97226898e-01,  5.42044939e-01,\n",
       "         1.06914190e+00,  9.15633026e-01, -1.00000000e+00],\n",
       "       [-1.64946806e+00,  1.13309819e+00,  1.25382383e-01,\n",
       "         5.52342112e-01, -1.98663266e+00, -9.06557923e-01,\n",
       "        -1.04641643e+00, -1.09214060e+00, -1.00000000e+00],\n",
       "       [ 1.93422471e+00, -1.99756135e+00,  4.87598156e-01,\n",
       "        -4.08099905e-01,  1.11174949e+00,  1.93450667e-01,\n",
       "         2.97076737e+00,  9.15633026e-01,  1.00000000e+00],\n",
       "       [-2.71124686e-01,  1.33951530e-01, -5.99049163e-01,\n",
       "        -4.08099905e-01,  4.96088244e-01, -1.62890144e-01,\n",
       "        -1.66914653e-01,  9.15633026e-01, -1.00000000e+00],\n",
       "       [-1.09813071e+00,  1.13309819e+00,  1.93646125e+00,\n",
       "         8.55602558e+00, -1.64534218e+00, -4.57258640e-01,\n",
       "        -9.75105476e-01, -1.09214060e+00, -1.00000000e+00],\n",
       "       [ 1.10721869e+00, -1.32487579e-01,  8.49813929e-01,\n",
       "        -2.48026235e-01,  2.08333530e-01, -2.24862459e-01,\n",
       "        -4.52158473e-01,  9.15633026e-01, -1.00000000e+00],\n",
       "       [-5.46793361e-01, -5.98756021e-01, -5.99049163e-01,\n",
       "         1.24599468e+00, -4.40787568e-01, -2.79088234e-01,\n",
       "        -8.08713247e-01, -1.09214060e+00,  1.00000000e+00],\n",
       "       [ 8.31550014e-01,  6.73417530e-02,  4.87598156e-01,\n",
       "        -4.08099905e-01,  6.76771436e-01,  1.33993849e+00,\n",
       "         4.98654260e-01,  9.15633026e-01, -1.00000000e+00],\n",
       "       [ 1.93422471e+00,  6.73417530e-02, -2.41012803e+00,\n",
       "         2.32194773e-01, -2.19952555e-01, -2.24862459e-01,\n",
       "        -8.56253884e-01, -1.09214060e+00,  1.00000000e+00],\n",
       "       [-2.71124686e-01,  5.33610195e-01,  4.87598156e-01,\n",
       "        -2.48026235e-01, -5.01015299e-01, -8.83318305e-01,\n",
       "        -7.61172611e-01, -1.09214060e+00, -1.00000000e+00],\n",
       "       [ 1.10721869e+00, -6.58778018e-02,  1.25382383e-01,\n",
       "        -4.08099905e-01,  7.16923257e-01,  1.46971431e-01,\n",
       "         5.46194897e-01,  9.15633026e-01,  1.00000000e+00],\n",
       "       [-2.71124686e-01, -5.98756021e-01, -1.68569648e+00,\n",
       "        -4.08099905e-01,  3.28788992e-01, -6.66415203e-01,\n",
       "        -5.23469428e-01, -1.09214060e+00, -1.00000000e+00],\n",
       "       [-1.37379939e+00, -2.65707134e-01,  8.49813929e-01,\n",
       "        -3.54742015e-01,  6.78021584e-02, -4.72751718e-01,\n",
       "        -5.47239746e-01, -1.09214060e+00,  1.00000000e+00],\n",
       "       [ 8.31550014e-01,  7.31975576e-04, -5.99049163e-01,\n",
       "        -2.48026235e-01, -3.25773928e-02, -6.89654821e-01,\n",
       "        -7.13631974e-01, -1.09214060e+00, -1.00000000e+00],\n",
       "       [-1.64946806e+00, -9.31804908e-01, -3.49677535e+00,\n",
       "         6.59057892e-01, -1.05644882e+00, -2.09369380e-01,\n",
       "        -9.75105476e-01, -1.09214060e+00,  1.00000000e+00],\n",
       "       [ 2.80212664e-01, -5.98756021e-01, -9.61264936e-01,\n",
       "        -4.08099905e-01,  7.43691137e-01, -3.64300167e-01,\n",
       "         4.03572987e-01,  9.15633026e-01, -1.00000000e+00],\n",
       "       [ 4.54398915e-03, -5.32146244e-01, -5.99049163e-01,\n",
       "        -4.08099905e-01,  6.09851735e-01, -4.88244797e-01,\n",
       "         7.07885304e-02,  9.15633026e-01,  1.00000000e+00],\n",
       "       [ 1.10721869e+00, -1.33146357e+00, -2.36833390e-01,\n",
       "         6.05700002e-01,  3.48864902e-01, -4.03032864e-01,\n",
       "        -3.57077199e-01,  9.15633026e-01,  1.00000000e+00],\n",
       "       [-2.71124686e-01,  6.73417530e-02, -2.36833390e-01,\n",
       "        -4.08099905e-01,  6.43311586e-01, -3.11989745e-02,\n",
       "         2.37180759e-01,  9.15633026e-01, -1.00000000e+00],\n",
       "       [ 2.80212664e-01,  1.26631775e+00,  1.93646125e+00,\n",
       "        -4.08099905e-01,  5.22856124e-01,  2.50966594e+00,\n",
       "        -7.18333795e-02,  9.15633026e-01, -1.00000000e+00],\n",
       "       [-5.46793361e-01,  1.13309819e+00,  1.25382383e-01,\n",
       "        -1.94668345e-01, -1.15682837e+00, -8.67825226e-01,\n",
       "        -9.03794521e-01, -1.09214060e+00, -1.00000000e+00],\n",
       "       [ 5.55881339e-01, -7.98585353e-01,  1.25382383e-01,\n",
       "         1.61949991e+00,  2.76503379e-02, -5.11484415e-01,\n",
       "        -6.42321019e-01, -1.09214060e+00,  1.00000000e+00],\n",
       "       [ 2.80212664e-01, -2.65707134e-01,  1.25382383e-01,\n",
       "         1.87632140e-02, -1.93184675e-01, -5.88949809e-01,\n",
       "        -7.37402293e-01, -1.09214060e+00,  1.00000000e+00],\n",
       "       [ 1.10721869e+00, -6.65365798e-01,  1.21202970e+00,\n",
       "        -4.08099905e-01,  8.10610838e-01,  1.93450667e-01,\n",
       "         1.25930445e+00,  9.15633026e-01, -1.00000000e+00],\n",
       "       [ 1.10721869e+00, -1.19824402e+00, -5.99049163e-01,\n",
       "        -4.08099905e-01,  1.14645949e-01, -7.59373675e-01,\n",
       "        -6.42321019e-01, -1.09214060e+00, -1.00000000e+00],\n",
       "       [ 1.38288736e+00, -5.32146244e-01, -2.36833390e-01,\n",
       "        -4.08099905e-01,  8.17302808e-01,  1.06106308e+00,\n",
       "         8.55209035e-01,  9.15633026e-01,  1.00000000e+00],\n",
       "       [-5.46793361e-01, -1.46468313e+00, -2.36833390e-01,\n",
       "        -4.08099905e-01,  8.23994778e-01, -1.00917829e-01,\n",
       "         8.78979353e-01,  9.15633026e-01,  1.00000000e+00],\n",
       "       [ 8.31550014e-01, -5.32146244e-01, -5.99049163e-01,\n",
       "        -4.08099905e-01,  7.90534928e-01,  3.09648758e-01,\n",
       "         6.41276170e-01,  9.15633026e-01, -1.00000000e+00],\n",
       "       [-8.22462036e-01, -1.46468313e+00, -2.77234380e+00,\n",
       "        -3.54742015e-01,  4.55936423e-01,  7.97680738e-01,\n",
       "        -4.75928791e-01,  9.15633026e-01,  1.00000000e+00],\n",
       "       [ 8.31550014e-01, -2.65707134e-01,  4.87598156e-01,\n",
       "        -4.08099905e-01,  6.90155376e-01,  1.52802617e-02,\n",
       "         5.22424578e-01,  9.15633026e-01, -1.00000000e+00],\n",
       "       [ 1.38288736e+00, -1.73112224e+00, -5.99049163e-01,\n",
       "        -4.08099905e-01,  1.15190131e+00,  1.64980007e+00,\n",
       "         2.68552355e+00,  9.15633026e-01,  1.00000000e+00],\n",
       "       [ 5.55881339e-01, -4.65536466e-01, -2.36833390e-01,\n",
       "         1.13927890e+00, -1.53032854e-01, -5.81203270e-01,\n",
       "        -7.37402293e-01, -1.09214060e+00,  1.00000000e+00],\n",
       "       [ 1.10721869e+00, -9.98414685e-01, -9.61264936e-01,\n",
       "        -4.08099905e-01,  8.84222509e-01,  5.88524175e-01,\n",
       "         9.50290308e-01,  9.15633026e-01, -1.00000000e+00],\n",
       "       [-1.09813071e+00,  2.67171085e-01,  1.21202970e+00,\n",
       "        -4.08099905e-01, -1.12881034e-01, -9.06557923e-01,\n",
       "        -6.42321019e-01, -1.09214060e+00,  1.00000000e+00],\n",
       "       [-5.46793361e-01,  9.99878637e-01, -5.99049163e-01,\n",
       "        -4.08099905e-01,  2.61869291e-01, -6.43175584e-01,\n",
       "        -4.99699109e-01,  9.15633026e-01, -1.00000000e+00],\n",
       "       [-2.71124686e-01,  3.33780863e-01, -5.99049163e-01,\n",
       "        -4.08099905e-01,  5.56315975e-01, -1.93876301e-01,\n",
       "        -2.42927429e-02,  9.15633026e-01, -1.00000000e+00],\n",
       "       [ 2.76123074e+00, -2.59704934e+00, -2.41012803e+00,\n",
       "        -4.08099905e-01,  1.26566480e+00,  1.21599386e+00,\n",
       "         2.61421259e+00,  9.15633026e-01,  1.00000000e+00],\n",
       "       [-2.71124686e-01,  2.67171085e-01, -5.99049163e-01,\n",
       "        -4.08099905e-01,  3.68940812e-01, -6.81908281e-01,\n",
       "        -3.80847518e-01,  9.15633026e-01, -1.00000000e+00],\n",
       "       [ 4.54398915e-03, -9.31804908e-01, -1.68569648e+00,\n",
       "        -4.08099905e-01,  8.23994778e-01, -3.72046707e-01,\n",
       "         4.98654260e-01,  9.15633026e-01, -1.00000000e+00],\n",
       "       [-2.20080541e+00,  1.26631775e+00, -2.36833390e-01,\n",
       "        -1.94668345e-01, -2.15393191e+00, -1.06148871e+00,\n",
       "        -1.07018675e+00, -1.09214060e+00, -1.00000000e+00],\n",
       "       [ 8.31550014e-01, -1.66451246e+00, -2.36833390e-01,\n",
       "        -4.08099905e-01,  1.00467797e+00,  2.84276713e+00,\n",
       "         1.78225145e+00,  9.15633026e-01,  1.00000000e+00],\n",
       "       [ 1.10721869e+00, -5.32146244e-01, -2.36833390e-01,\n",
       "        -4.08099905e-01,  8.03918868e-01,  4.87819163e-01,\n",
       "         7.83898080e-01,  9.15633026e-01,  1.00000000e+00],\n",
       "       [ 5.55881339e-01, -3.32316911e-01, -9.61264936e-01,\n",
       "        -3.01384125e-01,  1.61489740e-01,  3.17395297e-01,\n",
       "        -6.18550701e-01, -1.09214060e+00,  1.00000000e+00],\n",
       "       [-1.09813071e+00,  1.79919597e+00, -2.36833390e-01,\n",
       "        -4.08099905e-01, -6.88390461e-01, -5.73456730e-01,\n",
       "        -8.32483566e-01, -1.09214060e+00,  1.00000000e+00],\n",
       "       [ 2.80212664e-01,  1.33951530e-01, -2.36833390e-01,\n",
       "        -3.54742015e-01,  2.88637171e-01, -1.78383222e-01,\n",
       "        -4.52158473e-01,  9.15633026e-01, -1.00000000e+00],\n",
       "       [ 4.54398915e-03,  6.66829750e-01, -2.36833390e-01,\n",
       "        -4.08099905e-01,  6.36619616e-01,  9.37118446e-01,\n",
       "         2.13410440e-01,  9.15633026e-01, -1.00000000e+00]])"
      ]
     },
     "execution_count": 25,
     "metadata": {},
     "output_type": "execute_result"
    }
   ],
   "source": [
    "X_test_scaled"
   ]
  },
  {
   "cell_type": "code",
   "execution_count": 26,
   "id": "b1d3b95e",
   "metadata": {},
   "outputs": [
    {
     "data": {
      "text/html": [
       "<div>\n",
       "<style scoped>\n",
       "    .dataframe tbody tr th:only-of-type {\n",
       "        vertical-align: middle;\n",
       "    }\n",
       "\n",
       "    .dataframe tbody tr th {\n",
       "        vertical-align: top;\n",
       "    }\n",
       "\n",
       "    .dataframe thead th {\n",
       "        text-align: right;\n",
       "    }\n",
       "</style>\n",
       "<table border=\"1\" class=\"dataframe\">\n",
       "  <thead>\n",
       "    <tr style=\"text-align: right;\">\n",
       "      <th></th>\n",
       "      <th>Temperature</th>\n",
       "      <th>RH</th>\n",
       "      <th>Ws</th>\n",
       "      <th>Rain</th>\n",
       "      <th>FFMC</th>\n",
       "      <th>DMC</th>\n",
       "      <th>ISI</th>\n",
       "      <th>Classes</th>\n",
       "      <th>Region</th>\n",
       "    </tr>\n",
       "  </thead>\n",
       "  <tbody>\n",
       "    <tr>\n",
       "      <th>1</th>\n",
       "      <td>29</td>\n",
       "      <td>61</td>\n",
       "      <td>13</td>\n",
       "      <td>1.3</td>\n",
       "      <td>64.4</td>\n",
       "      <td>4.1</td>\n",
       "      <td>1.0</td>\n",
       "      <td>0</td>\n",
       "      <td>0</td>\n",
       "    </tr>\n",
       "    <tr>\n",
       "      <th>2</th>\n",
       "      <td>26</td>\n",
       "      <td>82</td>\n",
       "      <td>22</td>\n",
       "      <td>13.1</td>\n",
       "      <td>47.1</td>\n",
       "      <td>2.5</td>\n",
       "      <td>0.3</td>\n",
       "      <td>0</td>\n",
       "      <td>0</td>\n",
       "    </tr>\n",
       "    <tr>\n",
       "      <th>149</th>\n",
       "      <td>37</td>\n",
       "      <td>37</td>\n",
       "      <td>13</td>\n",
       "      <td>0.0</td>\n",
       "      <td>92.5</td>\n",
       "      <td>27.2</td>\n",
       "      <td>11.7</td>\n",
       "      <td>1</td>\n",
       "      <td>1</td>\n",
       "    </tr>\n",
       "    <tr>\n",
       "      <th>208</th>\n",
       "      <td>36</td>\n",
       "      <td>54</td>\n",
       "      <td>14</td>\n",
       "      <td>0.0</td>\n",
       "      <td>91.0</td>\n",
       "      <td>65.9</td>\n",
       "      <td>10.0</td>\n",
       "      <td>1</td>\n",
       "      <td>1</td>\n",
       "    </tr>\n",
       "    <tr>\n",
       "      <th>103</th>\n",
       "      <td>29</td>\n",
       "      <td>88</td>\n",
       "      <td>13</td>\n",
       "      <td>0.0</td>\n",
       "      <td>71.0</td>\n",
       "      <td>2.6</td>\n",
       "      <td>1.2</td>\n",
       "      <td>0</td>\n",
       "      <td>0</td>\n",
       "    </tr>\n",
       "    <tr>\n",
       "      <th>...</th>\n",
       "      <td>...</td>\n",
       "      <td>...</td>\n",
       "      <td>...</td>\n",
       "      <td>...</td>\n",
       "      <td>...</td>\n",
       "      <td>...</td>\n",
       "      <td>...</td>\n",
       "      <td>...</td>\n",
       "      <td>...</td>\n",
       "    </tr>\n",
       "    <tr>\n",
       "      <th>64</th>\n",
       "      <td>34</td>\n",
       "      <td>69</td>\n",
       "      <td>13</td>\n",
       "      <td>0.0</td>\n",
       "      <td>85.0</td>\n",
       "      <td>8.2</td>\n",
       "      <td>4.0</td>\n",
       "      <td>1</td>\n",
       "      <td>0</td>\n",
       "    </tr>\n",
       "    <tr>\n",
       "      <th>15</th>\n",
       "      <td>29</td>\n",
       "      <td>89</td>\n",
       "      <td>13</td>\n",
       "      <td>0.7</td>\n",
       "      <td>36.1</td>\n",
       "      <td>1.7</td>\n",
       "      <td>0.0</td>\n",
       "      <td>0</td>\n",
       "      <td>0</td>\n",
       "    </tr>\n",
       "    <tr>\n",
       "      <th>228</th>\n",
       "      <td>33</td>\n",
       "      <td>26</td>\n",
       "      <td>13</td>\n",
       "      <td>0.0</td>\n",
       "      <td>93.9</td>\n",
       "      <td>21.2</td>\n",
       "      <td>14.2</td>\n",
       "      <td>1</td>\n",
       "      <td>1</td>\n",
       "    </tr>\n",
       "    <tr>\n",
       "      <th>125</th>\n",
       "      <td>30</td>\n",
       "      <td>64</td>\n",
       "      <td>14</td>\n",
       "      <td>0.0</td>\n",
       "      <td>79.4</td>\n",
       "      <td>5.2</td>\n",
       "      <td>2.2</td>\n",
       "      <td>0</td>\n",
       "      <td>1</td>\n",
       "    </tr>\n",
       "    <tr>\n",
       "      <th>9</th>\n",
       "      <td>28</td>\n",
       "      <td>79</td>\n",
       "      <td>12</td>\n",
       "      <td>0.0</td>\n",
       "      <td>73.2</td>\n",
       "      <td>9.5</td>\n",
       "      <td>1.3</td>\n",
       "      <td>0</td>\n",
       "      <td>0</td>\n",
       "    </tr>\n",
       "  </tbody>\n",
       "</table>\n",
       "<p>182 rows × 9 columns</p>\n",
       "</div>"
      ],
      "text/plain": [
       "     Temperature  RH  Ws  Rain  FFMC   DMC   ISI  Classes  Region\n",
       "1             29  61  13   1.3  64.4   4.1   1.0        0       0\n",
       "2             26  82  22  13.1  47.1   2.5   0.3        0       0\n",
       "149           37  37  13   0.0  92.5  27.2  11.7        1       1\n",
       "208           36  54  14   0.0  91.0  65.9  10.0        1       1\n",
       "103           29  88  13   0.0  71.0   2.6   1.2        0       0\n",
       "..           ...  ..  ..   ...   ...   ...   ...      ...     ...\n",
       "64            34  69  13   0.0  85.0   8.2   4.0        1       0\n",
       "15            29  89  13   0.7  36.1   1.7   0.0        0       0\n",
       "228           33  26  13   0.0  93.9  21.2  14.2        1       1\n",
       "125           30  64  14   0.0  79.4   5.2   2.2        0       1\n",
       "9             28  79  12   0.0  73.2   9.5   1.3        0       0\n",
       "\n",
       "[182 rows x 9 columns]"
      ]
     },
     "execution_count": 26,
     "metadata": {},
     "output_type": "execute_result"
    }
   ],
   "source": [
    "X_train"
   ]
  },
  {
   "cell_type": "markdown",
   "id": "4e58027e",
   "metadata": {},
   "source": [
    "# Linear Regression model"
   ]
  },
  {
   "cell_type": "code",
   "execution_count": 27,
   "id": "69fc5d4a",
   "metadata": {},
   "outputs": [],
   "source": [
    "from sklearn.linear_model import LinearRegression"
   ]
  },
  {
   "cell_type": "code",
   "execution_count": 28,
   "id": "69ea73ee",
   "metadata": {},
   "outputs": [],
   "source": [
    "linreg = LinearRegression()"
   ]
  },
  {
   "cell_type": "code",
   "execution_count": 29,
   "id": "46f457e7",
   "metadata": {},
   "outputs": [
    {
     "data": {
      "text/html": [
       "<style>#sk-container-id-1 {color: black;background-color: white;}#sk-container-id-1 pre{padding: 0;}#sk-container-id-1 div.sk-toggleable {background-color: white;}#sk-container-id-1 label.sk-toggleable__label {cursor: pointer;display: block;width: 100%;margin-bottom: 0;padding: 0.3em;box-sizing: border-box;text-align: center;}#sk-container-id-1 label.sk-toggleable__label-arrow:before {content: \"▸\";float: left;margin-right: 0.25em;color: #696969;}#sk-container-id-1 label.sk-toggleable__label-arrow:hover:before {color: black;}#sk-container-id-1 div.sk-estimator:hover label.sk-toggleable__label-arrow:before {color: black;}#sk-container-id-1 div.sk-toggleable__content {max-height: 0;max-width: 0;overflow: hidden;text-align: left;background-color: #f0f8ff;}#sk-container-id-1 div.sk-toggleable__content pre {margin: 0.2em;color: black;border-radius: 0.25em;background-color: #f0f8ff;}#sk-container-id-1 input.sk-toggleable__control:checked~div.sk-toggleable__content {max-height: 200px;max-width: 100%;overflow: auto;}#sk-container-id-1 input.sk-toggleable__control:checked~label.sk-toggleable__label-arrow:before {content: \"▾\";}#sk-container-id-1 div.sk-estimator input.sk-toggleable__control:checked~label.sk-toggleable__label {background-color: #d4ebff;}#sk-container-id-1 div.sk-label input.sk-toggleable__control:checked~label.sk-toggleable__label {background-color: #d4ebff;}#sk-container-id-1 input.sk-hidden--visually {border: 0;clip: rect(1px 1px 1px 1px);clip: rect(1px, 1px, 1px, 1px);height: 1px;margin: -1px;overflow: hidden;padding: 0;position: absolute;width: 1px;}#sk-container-id-1 div.sk-estimator {font-family: monospace;background-color: #f0f8ff;border: 1px dotted black;border-radius: 0.25em;box-sizing: border-box;margin-bottom: 0.5em;}#sk-container-id-1 div.sk-estimator:hover {background-color: #d4ebff;}#sk-container-id-1 div.sk-parallel-item::after {content: \"\";width: 100%;border-bottom: 1px solid gray;flex-grow: 1;}#sk-container-id-1 div.sk-label:hover label.sk-toggleable__label {background-color: #d4ebff;}#sk-container-id-1 div.sk-serial::before {content: \"\";position: absolute;border-left: 1px solid gray;box-sizing: border-box;top: 0;bottom: 0;left: 50%;z-index: 0;}#sk-container-id-1 div.sk-serial {display: flex;flex-direction: column;align-items: center;background-color: white;padding-right: 0.2em;padding-left: 0.2em;position: relative;}#sk-container-id-1 div.sk-item {position: relative;z-index: 1;}#sk-container-id-1 div.sk-parallel {display: flex;align-items: stretch;justify-content: center;background-color: white;position: relative;}#sk-container-id-1 div.sk-item::before, #sk-container-id-1 div.sk-parallel-item::before {content: \"\";position: absolute;border-left: 1px solid gray;box-sizing: border-box;top: 0;bottom: 0;left: 50%;z-index: -1;}#sk-container-id-1 div.sk-parallel-item {display: flex;flex-direction: column;z-index: 1;position: relative;background-color: white;}#sk-container-id-1 div.sk-parallel-item:first-child::after {align-self: flex-end;width: 50%;}#sk-container-id-1 div.sk-parallel-item:last-child::after {align-self: flex-start;width: 50%;}#sk-container-id-1 div.sk-parallel-item:only-child::after {width: 0;}#sk-container-id-1 div.sk-dashed-wrapped {border: 1px dashed gray;margin: 0 0.4em 0.5em 0.4em;box-sizing: border-box;padding-bottom: 0.4em;background-color: white;}#sk-container-id-1 div.sk-label label {font-family: monospace;font-weight: bold;display: inline-block;line-height: 1.2em;}#sk-container-id-1 div.sk-label-container {text-align: center;}#sk-container-id-1 div.sk-container {/* jupyter's `normalize.less` sets `[hidden] { display: none; }` but bootstrap.min.css set `[hidden] { display: none !important; }` so we also need the `!important` here to be able to override the default hidden behavior on the sphinx rendered scikit-learn.org. See: https://github.com/scikit-learn/scikit-learn/issues/21755 */display: inline-block !important;position: relative;}#sk-container-id-1 div.sk-text-repr-fallback {display: none;}</style><div id=\"sk-container-id-1\" class=\"sk-top-container\"><div class=\"sk-text-repr-fallback\"><pre>LinearRegression()</pre><b>In a Jupyter environment, please rerun this cell to show the HTML representation or trust the notebook. <br />On GitHub, the HTML representation is unable to render, please try loading this page with nbviewer.org.</b></div><div class=\"sk-container\" hidden><div class=\"sk-item\"><div class=\"sk-estimator sk-toggleable\"><input class=\"sk-toggleable__control sk-hidden--visually\" id=\"sk-estimator-id-1\" type=\"checkbox\" checked><label for=\"sk-estimator-id-1\" class=\"sk-toggleable__label sk-toggleable__label-arrow\">LinearRegression</label><div class=\"sk-toggleable__content\"><pre>LinearRegression()</pre></div></div></div></div></div>"
      ],
      "text/plain": [
       "LinearRegression()"
      ]
     },
     "execution_count": 29,
     "metadata": {},
     "output_type": "execute_result"
    }
   ],
   "source": [
    "linreg.fit(X_train_scaled, y_train)"
   ]
  },
  {
   "cell_type": "code",
   "execution_count": 30,
   "id": "d085928d",
   "metadata": {},
   "outputs": [],
   "source": [
    "y_pred = linreg.predict(X_test_scaled)"
   ]
  },
  {
   "cell_type": "code",
   "execution_count": 31,
   "id": "9185ff35",
   "metadata": {},
   "outputs": [
    {
     "data": {
      "text/plain": [
       "array([ 4.34621195, 10.67373995, 12.9753663 ,  0.4135101 , -1.02488616,\n",
       "       13.19946919,  3.20191627, 17.02853003,  6.68493498,  1.65329755,\n",
       "        1.3394002 ,  7.23828016, 10.57153511, 11.26162371,  6.59652141,\n",
       "       14.37784468,  0.16775376, 20.96435475,  6.07130094,  2.35717789,\n",
       "        4.8009065 ,  1.79600584, 14.64159015,  1.16028556,  0.33934839,\n",
       "        9.50375339,  1.69970775,  1.80949787,  0.89111593,  1.79404326,\n",
       "        7.85801687,  5.14426939,  3.87443408,  8.34453306, 16.35964858,\n",
       "        0.16473317,  1.322402  ,  0.5955332 , 13.91854575,  1.07036698,\n",
       "       14.35427028, 10.41756323, 11.41865597,  7.73734617,  9.8352819 ,\n",
       "       25.01125817,  0.65939849, 13.88789197, -0.22922468,  2.75122621,\n",
       "        6.52145191, 22.97782455,  3.20799937,  8.26047586, -0.43174741,\n",
       "       25.46846083, 11.89850511,  4.18616184,  0.2316082 ,  4.84985639,\n",
       "       11.73074393])"
      ]
     },
     "execution_count": 31,
     "metadata": {},
     "output_type": "execute_result"
    }
   ],
   "source": [
    "y_pred"
   ]
  },
  {
   "cell_type": "code",
   "execution_count": 32,
   "id": "0996d218",
   "metadata": {},
   "outputs": [
    {
     "data": {
      "text/plain": [
       "46      3.6\n",
       "225    10.3\n",
       "180    13.2\n",
       "116     0.1\n",
       "124     0.1\n",
       "       ... \n",
       "148    12.0\n",
       "232     3.8\n",
       "136     0.6\n",
       "49      4.0\n",
       "58     11.9\n",
       "Name: FWI, Length: 61, dtype: float64"
      ]
     },
     "execution_count": 32,
     "metadata": {},
     "output_type": "execute_result"
    }
   ],
   "source": [
    "y_test"
   ]
  },
  {
   "cell_type": "code",
   "execution_count": 33,
   "id": "e5c2f725",
   "metadata": {},
   "outputs": [],
   "source": [
    "from sklearn.metrics import mean_absolute_error\n"
   ]
  },
  {
   "cell_type": "code",
   "execution_count": 34,
   "id": "2cce60a3",
   "metadata": {},
   "outputs": [],
   "source": [
    "mae = mean_absolute_error(y_test, y_pred)"
   ]
  },
  {
   "cell_type": "code",
   "execution_count": 35,
   "id": "739811c9",
   "metadata": {},
   "outputs": [
    {
     "data": {
      "text/plain": [
       "0.6097576371929287"
      ]
     },
     "execution_count": 35,
     "metadata": {},
     "output_type": "execute_result"
    }
   ],
   "source": [
    "mae"
   ]
  },
  {
   "cell_type": "code",
   "execution_count": 36,
   "id": "65ed21a2",
   "metadata": {},
   "outputs": [],
   "source": [
    "from sklearn.metrics import r2_score"
   ]
  },
  {
   "cell_type": "code",
   "execution_count": 37,
   "id": "6b173587",
   "metadata": {},
   "outputs": [],
   "source": [
    "score = r2_score(y_test,y_pred)"
   ]
  },
  {
   "cell_type": "code",
   "execution_count": 38,
   "id": "0a521886",
   "metadata": {},
   "outputs": [
    {
     "name": "stdout",
     "output_type": "stream",
     "text": [
      "0.9845036003441805\n"
     ]
    }
   ],
   "source": [
    "print(score)"
   ]
  },
  {
   "cell_type": "markdown",
   "id": "272c7f60",
   "metadata": {},
   "source": [
    "# Lasso Regression"
   ]
  },
  {
   "cell_type": "code",
   "execution_count": 39,
   "id": "afa85b7f",
   "metadata": {},
   "outputs": [],
   "source": [
    "from sklearn.linear_model import Lasso"
   ]
  },
  {
   "cell_type": "code",
   "execution_count": 40,
   "id": "7440b358",
   "metadata": {},
   "outputs": [],
   "source": [
    "lasso = Lasso()"
   ]
  },
  {
   "cell_type": "code",
   "execution_count": 41,
   "id": "ef31f81e",
   "metadata": {},
   "outputs": [
    {
     "data": {
      "text/html": [
       "<style>#sk-container-id-2 {color: black;background-color: white;}#sk-container-id-2 pre{padding: 0;}#sk-container-id-2 div.sk-toggleable {background-color: white;}#sk-container-id-2 label.sk-toggleable__label {cursor: pointer;display: block;width: 100%;margin-bottom: 0;padding: 0.3em;box-sizing: border-box;text-align: center;}#sk-container-id-2 label.sk-toggleable__label-arrow:before {content: \"▸\";float: left;margin-right: 0.25em;color: #696969;}#sk-container-id-2 label.sk-toggleable__label-arrow:hover:before {color: black;}#sk-container-id-2 div.sk-estimator:hover label.sk-toggleable__label-arrow:before {color: black;}#sk-container-id-2 div.sk-toggleable__content {max-height: 0;max-width: 0;overflow: hidden;text-align: left;background-color: #f0f8ff;}#sk-container-id-2 div.sk-toggleable__content pre {margin: 0.2em;color: black;border-radius: 0.25em;background-color: #f0f8ff;}#sk-container-id-2 input.sk-toggleable__control:checked~div.sk-toggleable__content {max-height: 200px;max-width: 100%;overflow: auto;}#sk-container-id-2 input.sk-toggleable__control:checked~label.sk-toggleable__label-arrow:before {content: \"▾\";}#sk-container-id-2 div.sk-estimator input.sk-toggleable__control:checked~label.sk-toggleable__label {background-color: #d4ebff;}#sk-container-id-2 div.sk-label input.sk-toggleable__control:checked~label.sk-toggleable__label {background-color: #d4ebff;}#sk-container-id-2 input.sk-hidden--visually {border: 0;clip: rect(1px 1px 1px 1px);clip: rect(1px, 1px, 1px, 1px);height: 1px;margin: -1px;overflow: hidden;padding: 0;position: absolute;width: 1px;}#sk-container-id-2 div.sk-estimator {font-family: monospace;background-color: #f0f8ff;border: 1px dotted black;border-radius: 0.25em;box-sizing: border-box;margin-bottom: 0.5em;}#sk-container-id-2 div.sk-estimator:hover {background-color: #d4ebff;}#sk-container-id-2 div.sk-parallel-item::after {content: \"\";width: 100%;border-bottom: 1px solid gray;flex-grow: 1;}#sk-container-id-2 div.sk-label:hover label.sk-toggleable__label {background-color: #d4ebff;}#sk-container-id-2 div.sk-serial::before {content: \"\";position: absolute;border-left: 1px solid gray;box-sizing: border-box;top: 0;bottom: 0;left: 50%;z-index: 0;}#sk-container-id-2 div.sk-serial {display: flex;flex-direction: column;align-items: center;background-color: white;padding-right: 0.2em;padding-left: 0.2em;position: relative;}#sk-container-id-2 div.sk-item {position: relative;z-index: 1;}#sk-container-id-2 div.sk-parallel {display: flex;align-items: stretch;justify-content: center;background-color: white;position: relative;}#sk-container-id-2 div.sk-item::before, #sk-container-id-2 div.sk-parallel-item::before {content: \"\";position: absolute;border-left: 1px solid gray;box-sizing: border-box;top: 0;bottom: 0;left: 50%;z-index: -1;}#sk-container-id-2 div.sk-parallel-item {display: flex;flex-direction: column;z-index: 1;position: relative;background-color: white;}#sk-container-id-2 div.sk-parallel-item:first-child::after {align-self: flex-end;width: 50%;}#sk-container-id-2 div.sk-parallel-item:last-child::after {align-self: flex-start;width: 50%;}#sk-container-id-2 div.sk-parallel-item:only-child::after {width: 0;}#sk-container-id-2 div.sk-dashed-wrapped {border: 1px dashed gray;margin: 0 0.4em 0.5em 0.4em;box-sizing: border-box;padding-bottom: 0.4em;background-color: white;}#sk-container-id-2 div.sk-label label {font-family: monospace;font-weight: bold;display: inline-block;line-height: 1.2em;}#sk-container-id-2 div.sk-label-container {text-align: center;}#sk-container-id-2 div.sk-container {/* jupyter's `normalize.less` sets `[hidden] { display: none; }` but bootstrap.min.css set `[hidden] { display: none !important; }` so we also need the `!important` here to be able to override the default hidden behavior on the sphinx rendered scikit-learn.org. See: https://github.com/scikit-learn/scikit-learn/issues/21755 */display: inline-block !important;position: relative;}#sk-container-id-2 div.sk-text-repr-fallback {display: none;}</style><div id=\"sk-container-id-2\" class=\"sk-top-container\"><div class=\"sk-text-repr-fallback\"><pre>Lasso()</pre><b>In a Jupyter environment, please rerun this cell to show the HTML representation or trust the notebook. <br />On GitHub, the HTML representation is unable to render, please try loading this page with nbviewer.org.</b></div><div class=\"sk-container\" hidden><div class=\"sk-item\"><div class=\"sk-estimator sk-toggleable\"><input class=\"sk-toggleable__control sk-hidden--visually\" id=\"sk-estimator-id-2\" type=\"checkbox\" checked><label for=\"sk-estimator-id-2\" class=\"sk-toggleable__label sk-toggleable__label-arrow\">Lasso</label><div class=\"sk-toggleable__content\"><pre>Lasso()</pre></div></div></div></div></div>"
      ],
      "text/plain": [
       "Lasso()"
      ]
     },
     "execution_count": 41,
     "metadata": {},
     "output_type": "execute_result"
    }
   ],
   "source": [
    "lasso.fit(X_train_scaled, y_train)"
   ]
  },
  {
   "cell_type": "code",
   "execution_count": 42,
   "id": "c6af7b97",
   "metadata": {},
   "outputs": [],
   "source": [
    "y_pred = lasso.predict(X_test_scaled)"
   ]
  },
  {
   "cell_type": "code",
   "execution_count": 43,
   "id": "47f69893",
   "metadata": {},
   "outputs": [
    {
     "data": {
      "text/plain": [
       "array([ 4.40903932, 10.34980871, 12.42143752,  0.31472754,  0.03366997,\n",
       "       12.53462945,  3.93443056, 15.72125148,  7.24172698,  2.57424406,\n",
       "        3.26269706,  6.97799523, 10.14729144, 10.30019217,  6.61388214,\n",
       "       12.8252594 ,  0.19883935, 19.14686136,  5.87884421,  1.84426329,\n",
       "        4.58256845,  3.03301062, 13.04058726,  3.01359487,  1.37713699,\n",
       "        9.59144612,  2.96074013,  3.45833819,  2.15161274,  2.5993233 ,\n",
       "        7.48037949,  5.81075359,  4.40903932,  7.84894342, 14.38850512,\n",
       "        0.87057286,  2.97118981,  2.3660633 , 12.50179678,  2.21612981,\n",
       "       13.57553321, 10.12848201, 10.45612451,  7.6048984 ,  9.09802793,\n",
       "       22.47532812,  2.38965893, 12.50537034,  1.76781293,  3.12381956,\n",
       "        6.33821709, 20.87709542,  3.46730426,  7.82595412, -0.36536572,\n",
       "       22.60193696, 11.55257926,  5.58821426,  2.0440843 ,  4.7241422 ,\n",
       "       10.70610399])"
      ]
     },
     "execution_count": 43,
     "metadata": {},
     "output_type": "execute_result"
    }
   ],
   "source": [
    "y_pred"
   ]
  },
  {
   "cell_type": "code",
   "execution_count": 44,
   "id": "9a138e8d",
   "metadata": {},
   "outputs": [
    {
     "data": {
      "text/plain": [
       "46      3.6\n",
       "225    10.3\n",
       "180    13.2\n",
       "116     0.1\n",
       "124     0.1\n",
       "       ... \n",
       "148    12.0\n",
       "232     3.8\n",
       "136     0.6\n",
       "49      4.0\n",
       "58     11.9\n",
       "Name: FWI, Length: 61, dtype: float64"
      ]
     },
     "execution_count": 44,
     "metadata": {},
     "output_type": "execute_result"
    }
   ],
   "source": [
    "y_test"
   ]
  },
  {
   "cell_type": "code",
   "execution_count": 45,
   "id": "25259ddf",
   "metadata": {},
   "outputs": [],
   "source": [
    "from sklearn.metrics import mean_absolute_error"
   ]
  },
  {
   "cell_type": "code",
   "execution_count": 46,
   "id": "c5f176fd",
   "metadata": {},
   "outputs": [],
   "source": [
    "mae = mean_absolute_error(y_test,y_pred)"
   ]
  },
  {
   "cell_type": "code",
   "execution_count": 47,
   "id": "f5dea73b",
   "metadata": {},
   "outputs": [
    {
     "data": {
      "text/plain": [
       "1.191456342645129"
      ]
     },
     "execution_count": 47,
     "metadata": {},
     "output_type": "execute_result"
    }
   ],
   "source": [
    "mae"
   ]
  },
  {
   "cell_type": "code",
   "execution_count": 48,
   "id": "efa964e9",
   "metadata": {},
   "outputs": [],
   "source": [
    "from sklearn.metrics import r2_score"
   ]
  },
  {
   "cell_type": "code",
   "execution_count": 49,
   "id": "eb057643",
   "metadata": {},
   "outputs": [],
   "source": [
    "score = r2_score(y_test,y_pred)"
   ]
  },
  {
   "cell_type": "code",
   "execution_count": 50,
   "id": "2306b998",
   "metadata": {},
   "outputs": [
    {
     "data": {
      "text/plain": [
       "0.9507719280238188"
      ]
     },
     "execution_count": 50,
     "metadata": {},
     "output_type": "execute_result"
    }
   ],
   "source": [
    "score"
   ]
  },
  {
   "cell_type": "markdown",
   "id": "c8408ec4",
   "metadata": {},
   "source": [
    "# Ridge Regression model"
   ]
  },
  {
   "cell_type": "code",
   "execution_count": 51,
   "id": "f1ef73d0",
   "metadata": {},
   "outputs": [],
   "source": [
    "from sklearn.linear_model import Ridge"
   ]
  },
  {
   "cell_type": "code",
   "execution_count": 52,
   "id": "5c2cc8a1",
   "metadata": {},
   "outputs": [],
   "source": [
    "ridge = Ridge()"
   ]
  },
  {
   "cell_type": "code",
   "execution_count": 53,
   "id": "3e34beb6",
   "metadata": {},
   "outputs": [
    {
     "data": {
      "text/html": [
       "<style>#sk-container-id-3 {color: black;background-color: white;}#sk-container-id-3 pre{padding: 0;}#sk-container-id-3 div.sk-toggleable {background-color: white;}#sk-container-id-3 label.sk-toggleable__label {cursor: pointer;display: block;width: 100%;margin-bottom: 0;padding: 0.3em;box-sizing: border-box;text-align: center;}#sk-container-id-3 label.sk-toggleable__label-arrow:before {content: \"▸\";float: left;margin-right: 0.25em;color: #696969;}#sk-container-id-3 label.sk-toggleable__label-arrow:hover:before {color: black;}#sk-container-id-3 div.sk-estimator:hover label.sk-toggleable__label-arrow:before {color: black;}#sk-container-id-3 div.sk-toggleable__content {max-height: 0;max-width: 0;overflow: hidden;text-align: left;background-color: #f0f8ff;}#sk-container-id-3 div.sk-toggleable__content pre {margin: 0.2em;color: black;border-radius: 0.25em;background-color: #f0f8ff;}#sk-container-id-3 input.sk-toggleable__control:checked~div.sk-toggleable__content {max-height: 200px;max-width: 100%;overflow: auto;}#sk-container-id-3 input.sk-toggleable__control:checked~label.sk-toggleable__label-arrow:before {content: \"▾\";}#sk-container-id-3 div.sk-estimator input.sk-toggleable__control:checked~label.sk-toggleable__label {background-color: #d4ebff;}#sk-container-id-3 div.sk-label input.sk-toggleable__control:checked~label.sk-toggleable__label {background-color: #d4ebff;}#sk-container-id-3 input.sk-hidden--visually {border: 0;clip: rect(1px 1px 1px 1px);clip: rect(1px, 1px, 1px, 1px);height: 1px;margin: -1px;overflow: hidden;padding: 0;position: absolute;width: 1px;}#sk-container-id-3 div.sk-estimator {font-family: monospace;background-color: #f0f8ff;border: 1px dotted black;border-radius: 0.25em;box-sizing: border-box;margin-bottom: 0.5em;}#sk-container-id-3 div.sk-estimator:hover {background-color: #d4ebff;}#sk-container-id-3 div.sk-parallel-item::after {content: \"\";width: 100%;border-bottom: 1px solid gray;flex-grow: 1;}#sk-container-id-3 div.sk-label:hover label.sk-toggleable__label {background-color: #d4ebff;}#sk-container-id-3 div.sk-serial::before {content: \"\";position: absolute;border-left: 1px solid gray;box-sizing: border-box;top: 0;bottom: 0;left: 50%;z-index: 0;}#sk-container-id-3 div.sk-serial {display: flex;flex-direction: column;align-items: center;background-color: white;padding-right: 0.2em;padding-left: 0.2em;position: relative;}#sk-container-id-3 div.sk-item {position: relative;z-index: 1;}#sk-container-id-3 div.sk-parallel {display: flex;align-items: stretch;justify-content: center;background-color: white;position: relative;}#sk-container-id-3 div.sk-item::before, #sk-container-id-3 div.sk-parallel-item::before {content: \"\";position: absolute;border-left: 1px solid gray;box-sizing: border-box;top: 0;bottom: 0;left: 50%;z-index: -1;}#sk-container-id-3 div.sk-parallel-item {display: flex;flex-direction: column;z-index: 1;position: relative;background-color: white;}#sk-container-id-3 div.sk-parallel-item:first-child::after {align-self: flex-end;width: 50%;}#sk-container-id-3 div.sk-parallel-item:last-child::after {align-self: flex-start;width: 50%;}#sk-container-id-3 div.sk-parallel-item:only-child::after {width: 0;}#sk-container-id-3 div.sk-dashed-wrapped {border: 1px dashed gray;margin: 0 0.4em 0.5em 0.4em;box-sizing: border-box;padding-bottom: 0.4em;background-color: white;}#sk-container-id-3 div.sk-label label {font-family: monospace;font-weight: bold;display: inline-block;line-height: 1.2em;}#sk-container-id-3 div.sk-label-container {text-align: center;}#sk-container-id-3 div.sk-container {/* jupyter's `normalize.less` sets `[hidden] { display: none; }` but bootstrap.min.css set `[hidden] { display: none !important; }` so we also need the `!important` here to be able to override the default hidden behavior on the sphinx rendered scikit-learn.org. See: https://github.com/scikit-learn/scikit-learn/issues/21755 */display: inline-block !important;position: relative;}#sk-container-id-3 div.sk-text-repr-fallback {display: none;}</style><div id=\"sk-container-id-3\" class=\"sk-top-container\"><div class=\"sk-text-repr-fallback\"><pre>Ridge()</pre><b>In a Jupyter environment, please rerun this cell to show the HTML representation or trust the notebook. <br />On GitHub, the HTML representation is unable to render, please try loading this page with nbviewer.org.</b></div><div class=\"sk-container\" hidden><div class=\"sk-item\"><div class=\"sk-estimator sk-toggleable\"><input class=\"sk-toggleable__control sk-hidden--visually\" id=\"sk-estimator-id-3\" type=\"checkbox\" checked><label for=\"sk-estimator-id-3\" class=\"sk-toggleable__label sk-toggleable__label-arrow\">Ridge</label><div class=\"sk-toggleable__content\"><pre>Ridge()</pre></div></div></div></div></div>"
      ],
      "text/plain": [
       "Ridge()"
      ]
     },
     "execution_count": 53,
     "metadata": {},
     "output_type": "execute_result"
    }
   ],
   "source": [
    "ridge.fit(X_train_scaled, y_train)"
   ]
  },
  {
   "cell_type": "code",
   "execution_count": 54,
   "id": "fd39ee7c",
   "metadata": {},
   "outputs": [],
   "source": [
    "y_pred = ridge.predict(X_test_scaled)"
   ]
  },
  {
   "cell_type": "code",
   "execution_count": 55,
   "id": "9cdcb5a3",
   "metadata": {},
   "outputs": [
    {
     "data": {
      "text/plain": [
       "array([ 4.38902715, 10.68518817, 12.97272743,  0.40409601, -1.0629079 ,\n",
       "       13.20204776,  3.24433029, 17.00254123,  6.71625321,  1.70838684,\n",
       "        1.36420161,  7.25809378, 10.62858843, 11.25191047,  6.70053677,\n",
       "       14.36324446,  0.12449144, 20.8473788 ,  6.11098036,  2.36035216,\n",
       "        4.89732912,  1.83340874, 14.63618913,  1.17318549,  0.35779863,\n",
       "        9.52035641,  1.71855017,  1.85514035,  0.92290726,  1.77201167,\n",
       "        7.87720498,  5.2008456 ,  3.99418901,  8.36068858, 16.37079985,\n",
       "        0.14587179,  1.39203519,  0.64760432, 13.90254704,  1.13719108,\n",
       "       14.34276351, 10.43456412, 11.41713804,  7.80012668,  9.856387  ,\n",
       "       24.87012717,  0.71523685, 13.86705538, -0.18264348,  2.79236687,\n",
       "        6.54580627, 22.85404525,  3.26533149,  8.26918985, -0.49160457,\n",
       "       25.38519703, 11.89919864,  4.2123393 ,  0.20022956,  4.91681443,\n",
       "       11.72006434])"
      ]
     },
     "execution_count": 55,
     "metadata": {},
     "output_type": "execute_result"
    }
   ],
   "source": [
    "y_pred"
   ]
  },
  {
   "cell_type": "code",
   "execution_count": 56,
   "id": "e86ac6ac",
   "metadata": {},
   "outputs": [
    {
     "data": {
      "text/plain": [
       "46      3.6\n",
       "225    10.3\n",
       "180    13.2\n",
       "116     0.1\n",
       "124     0.1\n",
       "       ... \n",
       "148    12.0\n",
       "232     3.8\n",
       "136     0.6\n",
       "49      4.0\n",
       "58     11.9\n",
       "Name: FWI, Length: 61, dtype: float64"
      ]
     },
     "execution_count": 56,
     "metadata": {},
     "output_type": "execute_result"
    }
   ],
   "source": [
    "y_test"
   ]
  },
  {
   "cell_type": "code",
   "execution_count": 57,
   "id": "6f751bd2",
   "metadata": {},
   "outputs": [],
   "source": [
    "from sklearn.metrics import mean_absolute_error"
   ]
  },
  {
   "cell_type": "code",
   "execution_count": 58,
   "id": "200bf080",
   "metadata": {},
   "outputs": [],
   "source": [
    "mae = mean_absolute_error(y_test,y_pred)"
   ]
  },
  {
   "cell_type": "code",
   "execution_count": 59,
   "id": "07a8a0e0",
   "metadata": {},
   "outputs": [
    {
     "data": {
      "text/plain": [
       "0.632914377956146"
      ]
     },
     "execution_count": 59,
     "metadata": {},
     "output_type": "execute_result"
    }
   ],
   "source": [
    "mae"
   ]
  },
  {
   "cell_type": "code",
   "execution_count": 60,
   "id": "d5ecd9ea",
   "metadata": {},
   "outputs": [],
   "source": [
    "from sklearn.metrics import r2_score"
   ]
  },
  {
   "cell_type": "code",
   "execution_count": 61,
   "id": "6c55c6e2",
   "metadata": {},
   "outputs": [],
   "source": [
    "score = r2_score(y_test,y_pred)"
   ]
  },
  {
   "cell_type": "code",
   "execution_count": 62,
   "id": "2298bfa0",
   "metadata": {},
   "outputs": [
    {
     "data": {
      "text/plain": [
       "0.983692581331822"
      ]
     },
     "execution_count": 62,
     "metadata": {},
     "output_type": "execute_result"
    }
   ],
   "source": [
    "score\n"
   ]
  },
  {
   "cell_type": "markdown",
   "id": "da2c893a",
   "metadata": {},
   "source": [
    "# Elastic net regression "
   ]
  },
  {
   "cell_type": "code",
   "execution_count": 63,
   "id": "03f45885",
   "metadata": {},
   "outputs": [],
   "source": [
    "from sklearn.linear_model import ElasticNet"
   ]
  },
  {
   "cell_type": "code",
   "execution_count": 64,
   "id": "607f709c",
   "metadata": {},
   "outputs": [],
   "source": [
    "elastic = ElasticNet()"
   ]
  },
  {
   "cell_type": "code",
   "execution_count": 65,
   "id": "3ff36e95",
   "metadata": {},
   "outputs": [
    {
     "data": {
      "text/html": [
       "<style>#sk-container-id-4 {color: black;background-color: white;}#sk-container-id-4 pre{padding: 0;}#sk-container-id-4 div.sk-toggleable {background-color: white;}#sk-container-id-4 label.sk-toggleable__label {cursor: pointer;display: block;width: 100%;margin-bottom: 0;padding: 0.3em;box-sizing: border-box;text-align: center;}#sk-container-id-4 label.sk-toggleable__label-arrow:before {content: \"▸\";float: left;margin-right: 0.25em;color: #696969;}#sk-container-id-4 label.sk-toggleable__label-arrow:hover:before {color: black;}#sk-container-id-4 div.sk-estimator:hover label.sk-toggleable__label-arrow:before {color: black;}#sk-container-id-4 div.sk-toggleable__content {max-height: 0;max-width: 0;overflow: hidden;text-align: left;background-color: #f0f8ff;}#sk-container-id-4 div.sk-toggleable__content pre {margin: 0.2em;color: black;border-radius: 0.25em;background-color: #f0f8ff;}#sk-container-id-4 input.sk-toggleable__control:checked~div.sk-toggleable__content {max-height: 200px;max-width: 100%;overflow: auto;}#sk-container-id-4 input.sk-toggleable__control:checked~label.sk-toggleable__label-arrow:before {content: \"▾\";}#sk-container-id-4 div.sk-estimator input.sk-toggleable__control:checked~label.sk-toggleable__label {background-color: #d4ebff;}#sk-container-id-4 div.sk-label input.sk-toggleable__control:checked~label.sk-toggleable__label {background-color: #d4ebff;}#sk-container-id-4 input.sk-hidden--visually {border: 0;clip: rect(1px 1px 1px 1px);clip: rect(1px, 1px, 1px, 1px);height: 1px;margin: -1px;overflow: hidden;padding: 0;position: absolute;width: 1px;}#sk-container-id-4 div.sk-estimator {font-family: monospace;background-color: #f0f8ff;border: 1px dotted black;border-radius: 0.25em;box-sizing: border-box;margin-bottom: 0.5em;}#sk-container-id-4 div.sk-estimator:hover {background-color: #d4ebff;}#sk-container-id-4 div.sk-parallel-item::after {content: \"\";width: 100%;border-bottom: 1px solid gray;flex-grow: 1;}#sk-container-id-4 div.sk-label:hover label.sk-toggleable__label {background-color: #d4ebff;}#sk-container-id-4 div.sk-serial::before {content: \"\";position: absolute;border-left: 1px solid gray;box-sizing: border-box;top: 0;bottom: 0;left: 50%;z-index: 0;}#sk-container-id-4 div.sk-serial {display: flex;flex-direction: column;align-items: center;background-color: white;padding-right: 0.2em;padding-left: 0.2em;position: relative;}#sk-container-id-4 div.sk-item {position: relative;z-index: 1;}#sk-container-id-4 div.sk-parallel {display: flex;align-items: stretch;justify-content: center;background-color: white;position: relative;}#sk-container-id-4 div.sk-item::before, #sk-container-id-4 div.sk-parallel-item::before {content: \"\";position: absolute;border-left: 1px solid gray;box-sizing: border-box;top: 0;bottom: 0;left: 50%;z-index: -1;}#sk-container-id-4 div.sk-parallel-item {display: flex;flex-direction: column;z-index: 1;position: relative;background-color: white;}#sk-container-id-4 div.sk-parallel-item:first-child::after {align-self: flex-end;width: 50%;}#sk-container-id-4 div.sk-parallel-item:last-child::after {align-self: flex-start;width: 50%;}#sk-container-id-4 div.sk-parallel-item:only-child::after {width: 0;}#sk-container-id-4 div.sk-dashed-wrapped {border: 1px dashed gray;margin: 0 0.4em 0.5em 0.4em;box-sizing: border-box;padding-bottom: 0.4em;background-color: white;}#sk-container-id-4 div.sk-label label {font-family: monospace;font-weight: bold;display: inline-block;line-height: 1.2em;}#sk-container-id-4 div.sk-label-container {text-align: center;}#sk-container-id-4 div.sk-container {/* jupyter's `normalize.less` sets `[hidden] { display: none; }` but bootstrap.min.css set `[hidden] { display: none !important; }` so we also need the `!important` here to be able to override the default hidden behavior on the sphinx rendered scikit-learn.org. See: https://github.com/scikit-learn/scikit-learn/issues/21755 */display: inline-block !important;position: relative;}#sk-container-id-4 div.sk-text-repr-fallback {display: none;}</style><div id=\"sk-container-id-4\" class=\"sk-top-container\"><div class=\"sk-text-repr-fallback\"><pre>ElasticNet()</pre><b>In a Jupyter environment, please rerun this cell to show the HTML representation or trust the notebook. <br />On GitHub, the HTML representation is unable to render, please try loading this page with nbviewer.org.</b></div><div class=\"sk-container\" hidden><div class=\"sk-item\"><div class=\"sk-estimator sk-toggleable\"><input class=\"sk-toggleable__control sk-hidden--visually\" id=\"sk-estimator-id-4\" type=\"checkbox\" checked><label for=\"sk-estimator-id-4\" class=\"sk-toggleable__label sk-toggleable__label-arrow\">ElasticNet</label><div class=\"sk-toggleable__content\"><pre>ElasticNet()</pre></div></div></div></div></div>"
      ],
      "text/plain": [
       "ElasticNet()"
      ]
     },
     "execution_count": 65,
     "metadata": {},
     "output_type": "execute_result"
    }
   ],
   "source": [
    "elastic.fit(X_train_scaled,y_train)"
   ]
  },
  {
   "cell_type": "code",
   "execution_count": 66,
   "id": "86f54e94",
   "metadata": {},
   "outputs": [],
   "source": [
    "y_pred = elastic.predict(X_test_scaled)"
   ]
  },
  {
   "cell_type": "code",
   "execution_count": 67,
   "id": "b498c84d",
   "metadata": {},
   "outputs": [
    {
     "data": {
      "text/plain": [
       "array([ 5.82396345, 10.27053097, 12.10223255,  0.12768482,  0.05161994,\n",
       "       12.20896368,  4.14350219, 14.7028492 ,  7.92199552,  3.53344367,\n",
       "        3.89927172,  7.84512915, 11.03559894, 10.09868279,  8.32136022,\n",
       "       12.27438249,  0.05721599, 16.76011879,  7.10600454,  1.49065084,\n",
       "        6.47641188,  3.55782332, 12.53185563,  3.63989962,  1.70209711,\n",
       "        9.85583685,  3.57088443,  3.6183658 ,  2.80831773,  3.15710569,\n",
       "        8.43439995,  7.2466855 ,  6.85786587,  8.45163079, 13.37092323,\n",
       "        0.88638068,  3.75806352,  3.0004756 , 11.94431915,  3.43177879,\n",
       "       13.07506573, 10.51052786, 10.67680276,  9.35931479,  9.53018706,\n",
       "       19.45052915,  3.15567491, 12.35305697,  2.07456895,  4.658037  ,\n",
       "        7.29424925, 18.82415059,  5.24323461,  8.78363483, -0.55447175,\n",
       "       20.08200463, 11.48042586,  5.65615564,  1.55272788,  6.39670675,\n",
       "       10.50259845])"
      ]
     },
     "execution_count": 67,
     "metadata": {},
     "output_type": "execute_result"
    }
   ],
   "source": [
    "y_pred"
   ]
  },
  {
   "cell_type": "code",
   "execution_count": 68,
   "id": "27592fac",
   "metadata": {},
   "outputs": [
    {
     "data": {
      "text/plain": [
       "46      3.6\n",
       "225    10.3\n",
       "180    13.2\n",
       "116     0.1\n",
       "124     0.1\n",
       "       ... \n",
       "148    12.0\n",
       "232     3.8\n",
       "136     0.6\n",
       "49      4.0\n",
       "58     11.9\n",
       "Name: FWI, Length: 61, dtype: float64"
      ]
     },
     "execution_count": 68,
     "metadata": {},
     "output_type": "execute_result"
    }
   ],
   "source": [
    "y_test"
   ]
  },
  {
   "cell_type": "code",
   "execution_count": 69,
   "id": "f52bb031",
   "metadata": {},
   "outputs": [],
   "source": [
    "from sklearn.metrics import mean_absolute_error"
   ]
  },
  {
   "cell_type": "code",
   "execution_count": 70,
   "id": "b8fa0514",
   "metadata": {},
   "outputs": [],
   "source": [
    "mae = mean_absolute_error(y_test,y_pred)"
   ]
  },
  {
   "cell_type": "code",
   "execution_count": 71,
   "id": "f8ab428e",
   "metadata": {},
   "outputs": [
    {
     "data": {
      "text/plain": [
       "1.8874633328409454"
      ]
     },
     "execution_count": 71,
     "metadata": {},
     "output_type": "execute_result"
    }
   ],
   "source": [
    "mae "
   ]
  },
  {
   "cell_type": "code",
   "execution_count": 72,
   "id": "75241a88",
   "metadata": {},
   "outputs": [],
   "source": [
    "from sklearn.metrics import r2_score"
   ]
  },
  {
   "cell_type": "code",
   "execution_count": 73,
   "id": "9a82dcb2",
   "metadata": {},
   "outputs": [],
   "source": [
    "score = r2_score(y_test,y_pred)"
   ]
  },
  {
   "cell_type": "code",
   "execution_count": 74,
   "id": "5e2469a6",
   "metadata": {},
   "outputs": [
    {
     "data": {
      "text/plain": [
       "0.8803445600259009"
      ]
     },
     "execution_count": 74,
     "metadata": {},
     "output_type": "execute_result"
    }
   ],
   "source": [
    "score"
   ]
  },
  {
   "cell_type": "code",
   "execution_count": 76,
   "id": "b62eed8a",
   "metadata": {},
   "outputs": [],
   "source": [
    "import pickle\n",
    "pickle.dump(scaler,open('scaler.pkl','wb'))\n",
    "pickle.dump(ridge,open('ridge.pkl','wb'))"
   ]
  },
  {
   "cell_type": "code",
   "execution_count": null,
   "id": "5b2a1e54",
   "metadata": {},
   "outputs": [],
   "source": []
  }
 ],
 "metadata": {
  "kernelspec": {
   "display_name": "Python 3 (ipykernel)",
   "language": "python",
   "name": "python3"
  },
  "language_info": {
   "codemirror_mode": {
    "name": "ipython",
    "version": 3
   },
   "file_extension": ".py",
   "mimetype": "text/x-python",
   "name": "python",
   "nbconvert_exporter": "python",
   "pygments_lexer": "ipython3",
   "version": "3.10.9"
  }
 },
 "nbformat": 4,
 "nbformat_minor": 5
}
